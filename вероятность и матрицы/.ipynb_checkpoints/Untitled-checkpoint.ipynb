{
 "cells": [
  {
   "cell_type": "markdown",
   "id": "339a75e6",
   "metadata": {},
   "source": [
    "# Матрицы\n",
    "### Борунов Семён Сергеевич НММбд-01-22"
   ]
  },
  {
   "cell_type": "code",
   "execution_count": 1,
   "id": "01e074e8",
   "metadata": {},
   "outputs": [],
   "source": [
    "import numpy as np "
   ]
  },
  {
   "cell_type": "markdown",
   "id": "5b4b2a03",
   "metadata": {},
   "source": [
    "### Задача 1\n",
    "Создайте массив единиц размерностью 2x3x4."
   ]
  },
  {
   "cell_type": "code",
   "execution_count": 2,
   "id": "9ea4b7bd",
   "metadata": {},
   "outputs": [
    {
     "data": {
      "text/plain": [
       "array([[[1., 1., 1., 1.],\n",
       "        [1., 1., 1., 1.],\n",
       "        [1., 1., 1., 1.]],\n",
       "\n",
       "       [[1., 1., 1., 1.],\n",
       "        [1., 1., 1., 1.],\n",
       "        [1., 1., 1., 1.]]])"
      ]
     },
     "execution_count": 2,
     "metadata": {},
     "output_type": "execute_result"
    }
   ],
   "source": [
    "np.ones((2, 3, 4))"
   ]
  },
  {
   "cell_type": "markdown",
   "id": "2b0be505",
   "metadata": {},
   "source": [
    "### Задача 2\n",
    "Создайте массив размерностью 8х8 и заполните его значениями 42.\n"
   ]
  },
  {
   "cell_type": "code",
   "execution_count": 3,
   "id": "b1555f86",
   "metadata": {},
   "outputs": [
    {
     "data": {
      "text/plain": [
       "array([[42., 42., 42., 42., 42., 42., 42., 42.],\n",
       "       [42., 42., 42., 42., 42., 42., 42., 42.],\n",
       "       [42., 42., 42., 42., 42., 42., 42., 42.],\n",
       "       [42., 42., 42., 42., 42., 42., 42., 42.],\n",
       "       [42., 42., 42., 42., 42., 42., 42., 42.],\n",
       "       [42., 42., 42., 42., 42., 42., 42., 42.],\n",
       "       [42., 42., 42., 42., 42., 42., 42., 42.],\n",
       "       [42., 42., 42., 42., 42., 42., 42., 42.]])"
      ]
     },
     "execution_count": 3,
     "metadata": {},
     "output_type": "execute_result"
    }
   ],
   "source": [
    "np.ones((8, 8))*42"
   ]
  },
  {
   "cell_type": "markdown",
   "id": "576df568",
   "metadata": {},
   "source": [
    "### Задача 3\n",
    "Создайте массив случайных значений от 0 до 100 включительно, размерностью 1х8."
   ]
  },
  {
   "cell_type": "code",
   "execution_count": 7,
   "id": "350cce06",
   "metadata": {},
   "outputs": [
    {
     "data": {
      "text/plain": [
       "array([65, 29, 75,  3, 52, 46, 67, 24])"
      ]
     },
     "execution_count": 7,
     "metadata": {},
     "output_type": "execute_result"
    }
   ],
   "source": [
    "np.random.randint(1, 100, size=(8))"
   ]
  },
  {
   "cell_type": "markdown",
   "id": "8a7ac4f9",
   "metadata": {},
   "source": [
    "### Задача 4\n",
    "Создайте массив нулей размерностью 2х3 и выполните его транспонирование."
   ]
  },
  {
   "cell_type": "code",
   "execution_count": 9,
   "id": "00feb166",
   "metadata": {},
   "outputs": [
    {
     "data": {
      "text/plain": [
       "array([[0., 0., 0.],\n",
       "       [0., 0., 0.]])"
      ]
     },
     "execution_count": 9,
     "metadata": {},
     "output_type": "execute_result"
    }
   ],
   "source": [
    "np.zeros((2, 3))"
   ]
  },
  {
   "cell_type": "code",
   "execution_count": 10,
   "id": "a6df5991",
   "metadata": {},
   "outputs": [
    {
     "data": {
      "text/plain": [
       "array([[0., 0.],\n",
       "       [0., 0.],\n",
       "       [0., 0.]])"
      ]
     },
     "execution_count": 10,
     "metadata": {},
     "output_type": "execute_result"
    }
   ],
   "source": [
    "np.zeros((2, 3)).T"
   ]
  },
  {
   "cell_type": "markdown",
   "id": "2bba2ba0",
   "metadata": {},
   "source": [
    "### Задача 5\n",
    "Создайте 2 массива единиц A и B размерностью 2х3 и сложите их"
   ]
  },
  {
   "cell_type": "code",
   "execution_count": 13,
   "id": "27c8d2ac",
   "metadata": {},
   "outputs": [
    {
     "data": {
      "text/plain": [
       "array([[2., 2., 2.],\n",
       "       [2., 2., 2.]])"
      ]
     },
     "execution_count": 13,
     "metadata": {},
     "output_type": "execute_result"
    }
   ],
   "source": [
    "A = np.ones((2,3)) \n",
    "B = np.ones((2,3))\n",
    "A+B"
   ]
  },
  {
   "cell_type": "markdown",
   "id": "0180299e",
   "metadata": {},
   "source": [
    "### Задача 6\n",
    "Напишите функцию умножения трёх матриц (**не** пользуйтесь встроенными функциями такими как  np.dot(), @)"
   ]
  },
  {
   "cell_type": "code",
   "execution_count": 38,
   "id": "f32ac789",
   "metadata": {},
   "outputs": [],
   "source": [
    "def mat_mult(A, B):\n",
    "    C = np.zeros((A.shape[0], B.shape[1]))\n",
    "    try:\n",
    "        for i in range(A.shape[0]):\n",
    "            for j in range(B.shape[1]):\n",
    "                C[i][j] = sum([A[i][k] * B[k][j] for k in range(A.shape[1])])\n",
    "    except IndexError:\n",
    "        print('wrong shapes')\n",
    "    return C"
   ]
  },
  {
   "cell_type": "code",
   "execution_count": 39,
   "id": "e9232f78",
   "metadata": {},
   "outputs": [
    {
     "data": {
      "text/plain": [
       "array([[4., 1.],\n",
       "       [2., 2.]])"
      ]
     },
     "execution_count": 39,
     "metadata": {},
     "output_type": "execute_result"
    }
   ],
   "source": [
    "a = np.array([[1, 0],\n",
    "              [0, 1]])\n",
    "b = np.array([[4, 1],\n",
    "              [2, 2]])\n",
    "mat_mult(a, b)"
   ]
  },
  {
   "cell_type": "code",
   "execution_count": 40,
   "id": "3be33760",
   "metadata": {},
   "outputs": [],
   "source": [
    "def triple_mult(A, B, C):\n",
    "    return mat_mult(mat_mult(A, B), C)"
   ]
  },
  {
   "cell_type": "code",
   "execution_count": 41,
   "id": "50e35d8c",
   "metadata": {},
   "outputs": [
    {
     "data": {
      "text/plain": [
       "array([[4., 1.],\n",
       "       [2., 2.]])"
      ]
     },
     "execution_count": 41,
     "metadata": {},
     "output_type": "execute_result"
    }
   ],
   "source": [
    "a = np.array([[1, 0],\n",
    "              [0, 1]])\n",
    "b = np.array([[4, 1],\n",
    "              [2, 2]])\n",
    "c = np.array([[1, 0],\n",
    "              [0, 1]])\n",
    "triple_mult(a, b, c)"
   ]
  },
  {
   "cell_type": "markdown",
   "id": "038de80d",
   "metadata": {},
   "source": [
    "### Задача 7\n",
    "Напишите функцию, которая умножает матрицу на транспорированную матрицу (пользуйтесь встроенными функциями такими как np.dot(), @, T) получает обратную матрицу от результата"
   ]
  },
  {
   "cell_type": "code",
   "execution_count": 42,
   "id": "a0ea4cd8",
   "metadata": {},
   "outputs": [],
   "source": [
    "def starange_op(A):\n",
    "    return np.invert(A @ A.T)"
   ]
  },
  {
   "cell_type": "code",
   "execution_count": 43,
   "id": "6dfcc442",
   "metadata": {},
   "outputs": [
    {
     "data": {
      "text/plain": [
       "array([[-18, -11],\n",
       "       [-11,  -9]])"
      ]
     },
     "execution_count": 43,
     "metadata": {},
     "output_type": "execute_result"
    }
   ],
   "source": [
    "starange_op(np.array([[4, 1],\n",
    "              [2, 2]]))"
   ]
  },
  {
   "cell_type": "markdown",
   "id": "0e643fae",
   "metadata": {},
   "source": [
    "### Задача 8\n",
    "Напишите и отобразите функцию y = x * x * x/12 + x * (x-15) - 72 на отрезке -10; 10"
   ]
  },
  {
   "cell_type": "code",
   "execution_count": 44,
   "id": "f47b8c00",
   "metadata": {},
   "outputs": [],
   "source": [
    "import matplotlib.pyplot as plt"
   ]
  },
  {
   "cell_type": "code",
   "execution_count": 46,
   "id": "40885843",
   "metadata": {},
   "outputs": [
    {
     "data": {
      "text/plain": [
       "[<matplotlib.lines.Line2D at 0x1ebcc5d7910>]"
      ]
     },
     "execution_count": 46,
     "metadata": {},
     "output_type": "execute_result"
    },
    {
     "data": {
      "image/png": "[encoded data removed]",
      "text/plain": [
       "<Figure size 432x288 with 1 Axes>"
      ]
     },
     "metadata": {
      "needs_background": "light"
     },
     "output_type": "display_data"
    }
   ],
   "source": [
    "f = lambda x: x * x * x/12 + x * (x-15) - 72\n",
    "xes = np.linspace(-10, 10, 100)\n",
    "yes = [f(x) for x in xes]\n",
    "plt.plot(xes, yes, c='g')"
   ]
  },
  {
   "cell_type": "markdown",
   "id": "7704290d",
   "metadata": {},
   "source": [
    "### Задача 9\n",
    "Отобразите ту же функцию на отрезке -10; 10, но с шагом 0.1 по оси x"
   ]
  },
  {
   "cell_type": "code",
   "execution_count": 48,
   "id": "9eb5a11b",
   "metadata": {},
   "outputs": [
    {
     "data": {
      "text/plain": [
       "[<matplotlib.lines.Line2D at 0x1ebcecf6d60>]"
      ]
     },
     "execution_count": 48,
     "metadata": {},
     "output_type": "execute_result"
    },
    {
     "data": {
      "image/png": "[encoded data removed]",
      "text/plain": [
       "<Figure size 432x288 with 1 Axes>"
      ]
     },
     "metadata": {
      "needs_background": "light"
     },
     "output_type": "display_data"
    }
   ],
   "source": [
    "f = lambda x: x * x * x/12 + x * (x-15) - 72\n",
    "xes = np.arange(-10, 10, 0.1)\n",
    "yes = [f(x) for x in xes]\n",
    "plt.plot(xes, yes, c='g')"
   ]
  },
  {
   "cell_type": "markdown",
   "id": "38e1de1a",
   "metadata": {},
   "source": [
    "Разницы как-то нет"
   ]
  }
 ],
 "metadata": {
  "kernelspec": {
   "display_name": "Python 3 (ipykernel)",
   "language": "python",
   "name": "python3"
  },
  "language_info": {
   "codemirror_mode": {
    "name": "ipython",
    "version": 3
   },
   "file_extension": ".py",
   "mimetype": "text/x-python",
   "name": "python",
   "nbconvert_exporter": "python",
   "pygments_lexer": "ipython3",
   "version": "3.9.12"
  }
 },
 "nbformat": 4,
 "nbformat_minor": 5
}
